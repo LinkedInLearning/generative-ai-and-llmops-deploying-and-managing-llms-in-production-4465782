{
 "cells": [
  {
   "cell_type": "markdown",
   "metadata": {},
   "source": [
    "# Solution: Estimating costs of an LLM API"
   ]
  },
  {
   "cell_type": "markdown",
   "metadata": {},
   "source": [
    "[![open in colab](https://colab.research.google.com/assets/colab-badge.svg)](https://colab.research.google.com/github/LinkedInLearning/generative-ai-and-llmops-deploying-and-managing-llms-in-production-4465782/blob/solution/ch-06/challenge_estimating_API_costs.ipynb)"
   ]
  },
  {
   "cell_type": "code",
   "execution_count": 4,
   "metadata": {
    "colab": {
     "base_uri": "https://localhost:8080/"
    },
    "id": "VLopcvd3Cl96",
    "outputId": "e33e4210-afd8-45a4-d917-4424c32d4c5b"
   },
   "outputs": [
    {
     "name": "stdout",
     "output_type": "stream",
     "text": [
      "\u001b[2K     \u001b[90m━━━━━━━━━━━━━━━━━━━━━━━━━━━━━━━━━━━━━━━━\u001b[0m \u001b[32m320.6/320.6 kB\u001b[0m \u001b[31m2.6 MB/s\u001b[0m eta \u001b[36m0:00:00\u001b[0m\n",
      "\u001b[2K     \u001b[90m━━━━━━━━━━━━━━━━━━━━━━━━━━━━━━━━━━━━━━━━\u001b[0m \u001b[32m75.6/75.6 kB\u001b[0m \u001b[31m7.4 MB/s\u001b[0m eta \u001b[36m0:00:00\u001b[0m\n",
      "\u001b[2K     \u001b[90m━━━━━━━━━━━━━━━━━━━━━━━━━━━━━━━━━━━━━━━━\u001b[0m \u001b[32m77.9/77.9 kB\u001b[0m \u001b[31m7.8 MB/s\u001b[0m eta \u001b[36m0:00:00\u001b[0m\n",
      "\u001b[2K     \u001b[90m━━━━━━━━━━━━━━━━━━━━━━━━━━━━━━━━━━━━━━━━\u001b[0m \u001b[32m58.3/58.3 kB\u001b[0m \u001b[31m6.6 MB/s\u001b[0m eta \u001b[36m0:00:00\u001b[0m\n",
      "\u001b[?25h"
     ]
    }
   ],
   "source": [
    "!pip install openai -q"
   ]
  },
  {
   "cell_type": "code",
   "execution_count": 5,
   "metadata": {
    "id": "2_289xWjClMq"
   },
   "outputs": [],
   "source": [
    "from openai import OpenAI\n",
    "import getpass\n",
    "import os"
   ]
  },
  {
   "cell_type": "code",
   "execution_count": 6,
   "metadata": {
    "colab": {
     "base_uri": "https://localhost:8080/"
    },
    "id": "cxmQQF9ICpQu",
    "outputId": "bc5c094f-9f61-42ef-9a94-cb61be647637"
   },
   "outputs": [
    {
     "name": "stdout",
     "output_type": "stream",
     "text": [
      "··········\n"
     ]
    }
   ],
   "source": [
    "client = OpenAI(api_key=getpass.getpass())"
   ]
  },
  {
   "cell_type": "code",
   "execution_count": 3,
   "metadata": {
    "id": "cGrZ63Ll1txH"
   },
   "outputs": [],
   "source": [
    "input_token_cost = 0.00001\n",
    "output_token_cost = 0.00003"
   ]
  },
  {
   "cell_type": "code",
   "execution_count": 11,
   "metadata": {
    "colab": {
     "base_uri": "https://localhost:8080/"
    },
    "id": "SRYZUQ9_uTEo",
    "outputId": "af3b9e7d-41e2-4093-e92a-75f1625ebe61"
   },
   "outputs": [
    {
     "name": "stdout",
     "output_type": "stream",
     "text": [
      "Total input tokens: 19\n",
      "Total output tokens: 770\n",
      "Cost of the API call: $0.0233\n"
     ]
    }
   ],
   "source": [
    "def calculate_cost(input_tokens, output_tokens):\n",
    "    total_cost=(input_tokens * input_token_cost) + (output_tokens * output_token_cost)\n",
    "    return total_cost\n",
    "\n",
    "def generate_text_and_calculate_cost(prompt, model=\"gpt-4-turbo\"):\n",
    "    response = client.chat.completions.create(\n",
    "            model=\"gpt-4-turbo\",\n",
    "            messages=[\n",
    "                {\"role\": \"user\", \"content\": prompt}\n",
    "            ]\n",
    "            )\n",
    "\n",
    "    generated_output = response.choices[0].message.content\n",
    "\n",
    "    # Get the number of tokens used\n",
    "    input_tokens = response.usage.prompt_tokens\n",
    "    output_tokens = response.usage.completion_tokens\n",
    "    cost = calculate_cost(input_tokens, output_tokens)\n",
    "\n",
    "    return generated_output, input_tokens, output_tokens, cost\n",
    "\n",
    "\n",
    "prompt = \"Write a blog about taking Generative AI applications to production.\"\n",
    "generated_output, input_tokens, output_tokens, cost = generate_text_and_calculate_cost(prompt)\n",
    "\n",
    "print(f\"Total input tokens: {input_tokens}\")\n",
    "print(f\"Total output tokens: {output_tokens}\")\n",
    "print(f\"Cost of the API call: ${cost:.4f}\")"
   ]
  },
  {
   "cell_type": "markdown",
   "metadata": {
    "id": "-5Sd7dUJDqi0"
   },
   "source": [
    "## Using tiktoken"
   ]
  },
  {
   "cell_type": "code",
   "execution_count": 1,
   "metadata": {
    "colab": {
     "base_uri": "https://localhost:8080/"
    },
    "id": "UgSIDplFDqST",
    "outputId": "8cc2d142-e8c1-42cb-aafb-568068629d13"
   },
   "outputs": [
    {
     "name": "stdout",
     "output_type": "stream",
     "text": [
      "Collecting tiktoken\n",
      "  Downloading tiktoken-0.7.0-cp310-cp310-manylinux_2_17_x86_64.manylinux2014_x86_64.whl (1.1 MB)\n",
      "\u001b[2K     \u001b[90m━━━━━━━━━━━━━━━━━━━━━━━━━━━━━━━━━━━━━━━━\u001b[0m \u001b[32m1.1/1.1 MB\u001b[0m \u001b[31m5.7 MB/s\u001b[0m eta \u001b[36m0:00:00\u001b[0m\n",
      "\u001b[?25hRequirement already satisfied: regex>=2022.1.18 in /usr/local/lib/python3.10/dist-packages (from tiktoken) (2023.12.25)\n",
      "Requirement already satisfied: requests>=2.26.0 in /usr/local/lib/python3.10/dist-packages (from tiktoken) (2.31.0)\n",
      "Requirement already satisfied: charset-normalizer<4,>=2 in /usr/local/lib/python3.10/dist-packages (from requests>=2.26.0->tiktoken) (3.3.2)\n",
      "Requirement already satisfied: idna<4,>=2.5 in /usr/local/lib/python3.10/dist-packages (from requests>=2.26.0->tiktoken) (3.7)\n",
      "Requirement already satisfied: urllib3<3,>=1.21.1 in /usr/local/lib/python3.10/dist-packages (from requests>=2.26.0->tiktoken) (2.0.7)\n",
      "Requirement already satisfied: certifi>=2017.4.17 in /usr/local/lib/python3.10/dist-packages (from requests>=2.26.0->tiktoken) (2024.2.2)\n",
      "Installing collected packages: tiktoken\n",
      "Successfully installed tiktoken-0.7.0\n"
     ]
    }
   ],
   "source": [
    "!pip install tiktoken"
   ]
  },
  {
   "cell_type": "code",
   "execution_count": 20,
   "metadata": {
    "colab": {
     "base_uri": "https://localhost:8080/"
    },
    "id": "pOoa-r4CDtTE",
    "outputId": "30895b9b-84a2-4fb7-875c-6ebcb1efae45"
   },
   "outputs": [
    {
     "name": "stdout",
     "output_type": "stream",
     "text": [
      "Cost of the prompt: $0.0233\n"
     ]
    }
   ],
   "source": [
    "import tiktoken\n",
    "\n",
    "def calculate_cost(input_prompt, generated_output, model):\n",
    "    # Initialize the tiktoken encoding for the model\n",
    "    encoding = tiktoken.encoding_for_model(model)\n",
    "\n",
    "    # Encode the prompt to get the number of tokens\n",
    "    input_tokens = len(encoding.encode(input_prompt))\n",
    "    output_tokens = len(encoding.encode(generated_output))\n",
    "\n",
    "    # Calculate the cost\n",
    "    total_cost=(input_tokens * input_token_cost) + (output_tokens * output_token_cost)\n",
    "\n",
    "    return total_cost\n",
    "\n",
    "model=\"gpt-4\"\n",
    "# model=\"gpt-3.5-turbo\"\n",
    "\n",
    "total_cost = calculate_cost(prompt, generated_output, model)\n",
    "print(f\"Cost of the prompt: ${cost:.4f}\")"
   ]
  },
  {
   "cell_type": "code",
   "execution_count": null,
   "metadata": {
    "id": "haexG56E3U-h"
   },
   "outputs": [],
   "source": []
  }
 ],
 "metadata": {
  "colab": {
   "provenance": []
  },
  "kernelspec": {
   "display_name": "Python 3 (ipykernel)",
   "language": "python",
   "name": "python3"
  },
  "language_info": {
   "codemirror_mode": {
    "name": "ipython",
    "version": 3
   },
   "file_extension": ".py",
   "mimetype": "text/x-python",
   "name": "python",
   "nbconvert_exporter": "python",
   "pygments_lexer": "ipython3",
   "version": "3.11.5"
  }
 },
 "nbformat": 4,
 "nbformat_minor": 1
}
