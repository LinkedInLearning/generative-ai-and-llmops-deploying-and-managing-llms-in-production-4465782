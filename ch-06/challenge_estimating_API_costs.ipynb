{
  "nbformat": 4,
  "nbformat_minor": 0,
  "metadata": {
    "colab": {
      "provenance": []
    },
    "kernelspec": {
      "name": "python3",
      "display_name": "Python 3"
    },
    "language_info": {
      "name": "python"
    }
  },
  "cells": [
    {
      "cell_type": "code",
      "source": [
        "!pip install openai -q"
      ],
      "metadata": {
        "colab": {
          "base_uri": "https://localhost:8080/"
        },
        "id": "VLopcvd3Cl96",
        "outputId": "e33e4210-afd8-45a4-d917-4424c32d4c5b"
      },
      "execution_count": 4,
      "outputs": [
        {
          "output_type": "stream",
          "name": "stdout",
          "text": [
            "\u001b[2K     \u001b[90m━━━━━━━━━━━━━━━━━━━━━━━━━━━━━━━━━━━━━━━━\u001b[0m \u001b[32m320.6/320.6 kB\u001b[0m \u001b[31m2.6 MB/s\u001b[0m eta \u001b[36m0:00:00\u001b[0m\n",
            "\u001b[2K     \u001b[90m━━━━━━━━━━━━━━━━━━━━━━━━━━━━━━━━━━━━━━━━\u001b[0m \u001b[32m75.6/75.6 kB\u001b[0m \u001b[31m7.4 MB/s\u001b[0m eta \u001b[36m0:00:00\u001b[0m\n",
            "\u001b[2K     \u001b[90m━━━━━━━━━━━━━━━━━━━━━━━━━━━━━━━━━━━━━━━━\u001b[0m \u001b[32m77.9/77.9 kB\u001b[0m \u001b[31m7.8 MB/s\u001b[0m eta \u001b[36m0:00:00\u001b[0m\n",
            "\u001b[2K     \u001b[90m━━━━━━━━━━━━━━━━━━━━━━━━━━━━━━━━━━━━━━━━\u001b[0m \u001b[32m58.3/58.3 kB\u001b[0m \u001b[31m6.6 MB/s\u001b[0m eta \u001b[36m0:00:00\u001b[0m\n",
            "\u001b[?25h"
          ]
        }
      ]
    },
    {
      "cell_type": "code",
      "source": [
        "from openai import OpenAI\n",
        "import getpass\n",
        "import os"
      ],
      "metadata": {
        "id": "2_289xWjClMq"
      },
      "execution_count": 5,
      "outputs": []
    },
    {
      "cell_type": "code",
      "source": [
        "client = OpenAI(api_key=getpass.getpass())"
      ],
      "metadata": {
        "colab": {
          "base_uri": "https://localhost:8080/"
        },
        "id": "cxmQQF9ICpQu",
        "outputId": "bc5c094f-9f61-42ef-9a94-cb61be647637"
      },
      "execution_count": 6,
      "outputs": [
        {
          "name": "stdout",
          "output_type": "stream",
          "text": [
            "··········\n"
          ]
        }
      ]
    },
    {
      "cell_type": "code",
      "source": [
        "input_token_cost = 0.00001\n",
        "output_token_cost = 0.00003"
      ],
      "metadata": {
        "id": "cGrZ63Ll1txH"
      },
      "execution_count": 3,
      "outputs": []
    },
    {
      "cell_type": "code",
      "execution_count": 11,
      "metadata": {
        "id": "SRYZUQ9_uTEo",
        "colab": {
          "base_uri": "https://localhost:8080/"
        },
        "outputId": "af3b9e7d-41e2-4093-e92a-75f1625ebe61"
      },
      "outputs": [
        {
          "output_type": "stream",
          "name": "stdout",
          "text": [
            "Total input tokens: 19\n",
            "Total output tokens: 770\n",
            "Cost of the API call: $0.0233\n"
          ]
        }
      ],
      "source": [
        "def calculate_cost(input_tokens, output_tokens):\n",
        "    total_cost=(input_tokens * input_token_cost) + (output_tokens * output_token_cost)\n",
        "    return total_cost\n",
        "\n",
        "def generate_text_and_calculate_cost(prompt, model=\"gpt-4-turbo\"):\n",
        "    response = client.chat.completions.create(\n",
        "            model=\"gpt-4-turbo\",\n",
        "            messages=[\n",
        "                {\"role\": \"user\", \"content\": prompt}\n",
        "            ]\n",
        "            )\n",
        "\n",
        "    generated_output = response.choices[0].message.content\n",
        "\n",
        "    # Get the number of tokens used\n",
        "    input_tokens = response.usage.prompt_tokens\n",
        "    output_tokens = response.usage.completion_tokens\n",
        "    cost = calculate_cost(input_tokens, output_tokens)\n",
        "\n",
        "    return generated_output, input_tokens, output_tokens, cost\n",
        "\n",
        "\n",
        "prompt = \"Write a blog about taking Generative AI applications to production.\"\n",
        "generated_output, input_tokens, output_tokens, cost = generate_text_and_calculate_cost(prompt)\n",
        "\n",
        "print(f\"Total input tokens: {input_tokens}\")\n",
        "print(f\"Total output tokens: {output_tokens}\")\n",
        "print(f\"Cost of the API call: ${cost:.4f}\")"
      ]
    },
    {
      "cell_type": "markdown",
      "source": [
        "## Using tiktoken"
      ],
      "metadata": {
        "id": "-5Sd7dUJDqi0"
      }
    },
    {
      "cell_type": "code",
      "source": [
        "!pip install tiktoken"
      ],
      "metadata": {
        "colab": {
          "base_uri": "https://localhost:8080/"
        },
        "id": "UgSIDplFDqST",
        "outputId": "8cc2d142-e8c1-42cb-aafb-568068629d13"
      },
      "execution_count": 1,
      "outputs": [
        {
          "output_type": "stream",
          "name": "stdout",
          "text": [
            "Collecting tiktoken\n",
            "  Downloading tiktoken-0.7.0-cp310-cp310-manylinux_2_17_x86_64.manylinux2014_x86_64.whl (1.1 MB)\n",
            "\u001b[2K     \u001b[90m━━━━━━━━━━━━━━━━━━━━━━━━━━━━━━━━━━━━━━━━\u001b[0m \u001b[32m1.1/1.1 MB\u001b[0m \u001b[31m5.7 MB/s\u001b[0m eta \u001b[36m0:00:00\u001b[0m\n",
            "\u001b[?25hRequirement already satisfied: regex>=2022.1.18 in /usr/local/lib/python3.10/dist-packages (from tiktoken) (2023.12.25)\n",
            "Requirement already satisfied: requests>=2.26.0 in /usr/local/lib/python3.10/dist-packages (from tiktoken) (2.31.0)\n",
            "Requirement already satisfied: charset-normalizer<4,>=2 in /usr/local/lib/python3.10/dist-packages (from requests>=2.26.0->tiktoken) (3.3.2)\n",
            "Requirement already satisfied: idna<4,>=2.5 in /usr/local/lib/python3.10/dist-packages (from requests>=2.26.0->tiktoken) (3.7)\n",
            "Requirement already satisfied: urllib3<3,>=1.21.1 in /usr/local/lib/python3.10/dist-packages (from requests>=2.26.0->tiktoken) (2.0.7)\n",
            "Requirement already satisfied: certifi>=2017.4.17 in /usr/local/lib/python3.10/dist-packages (from requests>=2.26.0->tiktoken) (2024.2.2)\n",
            "Installing collected packages: tiktoken\n",
            "Successfully installed tiktoken-0.7.0\n"
          ]
        }
      ]
    },
    {
      "cell_type": "code",
      "source": [
        "import tiktoken\n",
        "\n",
        "def calculate_cost(input_prompt, generated_output, model):\n",
        "    # Initialize the tiktoken encoding for the model\n",
        "    encoding = tiktoken.encoding_for_model(model)\n",
        "\n",
        "    # Encode the prompt to get the number of tokens\n",
        "    input_tokens = len(encoding.encode(input_prompt))\n",
        "    output_tokens = len(encoding.encode(generated_output))\n",
        "\n",
        "    # Calculate the cost\n",
        "    total_cost=(input_tokens * input_token_cost) + (output_tokens * output_token_cost)\n",
        "\n",
        "    return total_cost\n",
        "\n",
        "model=\"gpt-4\"\n",
        "# model=\"gpt-3.5-turbo\"\n",
        "\n",
        "total_cost = calculate_cost(prompt, generated_output, model)\n",
        "print(f\"Cost of the prompt: ${cost:.4f}\")"
      ],
      "metadata": {
        "id": "pOoa-r4CDtTE",
        "colab": {
          "base_uri": "https://localhost:8080/"
        },
        "outputId": "30895b9b-84a2-4fb7-875c-6ebcb1efae45"
      },
      "execution_count": 20,
      "outputs": [
        {
          "output_type": "stream",
          "name": "stdout",
          "text": [
            "Cost of the prompt: $0.0233\n"
          ]
        }
      ]
    },
    {
      "cell_type": "code",
      "source": [],
      "metadata": {
        "id": "haexG56E3U-h"
      },
      "execution_count": null,
      "outputs": []
    }
  ]
}