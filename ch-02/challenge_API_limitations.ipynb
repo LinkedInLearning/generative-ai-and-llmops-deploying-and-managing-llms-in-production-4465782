{
  "nbformat": 4,
  "nbformat_minor": 0,
  "metadata": {
    "colab": {
      "provenance": []
    },
    "kernelspec": {
      "name": "python3",
      "display_name": "Python 3"
    },
    "language_info": {
      "name": "python"
    }
  },
  "cells": [
    {
      "cell_type": "markdown",
      "source": [
        "# Challenge: API Limitations for LLM deployment\n",
        "\n",
        "In this challenge, you will have to query the Groq's LLM API. You will then need to calculate the latency and throughput of Groq's API.\n",
        "\n",
        "As a bonus, you can also compare the performance of Groq's API with OpenAI's API."
      ],
      "metadata": {
        "id": "2wHkktWPSNTH"
      }
    },
    {
      "cell_type": "code",
      "source": [
        "# TODO Install the Groq Package"
      ],
      "metadata": {
        "id": "d0-Q5FXjfKHK"
      },
      "execution_count": null,
      "outputs": []
    },
    {
      "cell_type": "code",
      "execution_count": null,
      "metadata": {
        "id": "a9esvOP1ap8R"
      },
      "outputs": [],
      "source": [
        "from groq import Groq\n",
        "import getpass\n",
        "\n",
        "# TODO: Create a Groq Client\n",
        "# You can get token from console.groq.com\n",
        "client = Groq(api_key=getpass.getpass())"
      ]
    },
    {
      "cell_type": "code",
      "source": [
        "def generate_text():\n",
        "    # TODO: Write a function to query the Groq API with a prompt"
      ],
      "metadata": {
        "id": "aMXH-N19gW23"
      },
      "execution_count": null,
      "outputs": []
    },
    {
      "cell_type": "code",
      "source": [
        "# TODO: Calculate the Latency and Throughput of Groq's API"
      ],
      "metadata": {
        "id": "nUGTqYWtgdI_"
      },
      "execution_count": null,
      "outputs": []
    },
    {
      "cell_type": "markdown",
      "source": [
        "## OpenAI"
      ],
      "metadata": {
        "id": "2hLOlOqGka_U"
      }
    },
    {
      "cell_type": "code",
      "source": [
        "from openai import OpenAI\n",
        "import time\n",
        "\n",
        "client = OpenAI(api_key=getpass.getpass())"
      ],
      "metadata": {
        "id": "2DaHkXtsibge"
      },
      "execution_count": null,
      "outputs": []
    },
    {
      "cell_type": "code",
      "source": [
        "# TODO: As a bonus, calculate and compare the latency and throughput of OpenAI's API with Groq's"
      ],
      "metadata": {
        "id": "SLoCH8zLmdRH"
      },
      "execution_count": null,
      "outputs": []
    }
  ]
}