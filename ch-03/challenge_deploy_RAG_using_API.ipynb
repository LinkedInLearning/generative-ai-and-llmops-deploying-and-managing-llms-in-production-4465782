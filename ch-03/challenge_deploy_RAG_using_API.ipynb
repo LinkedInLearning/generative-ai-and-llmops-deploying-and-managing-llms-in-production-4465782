{
  "nbformat": 4,
  "nbformat_minor": 0,
  "metadata": {
    "colab": {
      "provenance": []
    },
    "kernelspec": {
      "name": "python3",
      "display_name": "Python 3"
    },
    "language_info": {
      "name": "python"
    }
  },
  "cells": [
    {
      "cell_type": "markdown",
      "source": [
        "# Challenge: Deploy a simple RAG Application using an API\n",
        "In this challenge you will have to build an RAG application that can answer questions using data on a webpage. You will be using Graphlit to build this application since they provide a hosted solution to ingest data and build chatbots on top of it.\n",
        "\n",
        "[![open in colab](https://colab.research.google.com/assets/colab-badge.svg)](https://colab.research.google.com/github/LinkedInLearning/generative-ai-and-llmops-deploying-and-managing-llms-in-production-4465782/blob/main/ch-03/challenge_deploy_RAG_using_API.ipynb)"
      ],
      "metadata": {
        "id": "d5mnG4tlyaRe"
      }
    },
    {
      "cell_type": "code",
      "execution_count": null,
      "metadata": {
        "id": "N24LWygmAWMR"
      },
      "outputs": [],
      "source": [
        "!pip install graphlit-client -q"
      ]
    },
    {
      "cell_type": "code",
      "source": [
        "from typing import Optional\n",
        "from graphlit import Graphlit\n",
        "from graphlit_api import *"
      ],
      "metadata": {
        "id": "zpHXBdHLAdUp"
      },
      "execution_count": null,
      "outputs": []
    },
    {
      "cell_type": "code",
      "source": [
        "# Get your Graphlit token from https://portal.graphlit.dev\n",
        "graphlit = Graphlit(organization_id=\"\", environment_id=\"\", jwt_secret=\"\")"
      ],
      "metadata": {
        "id": "7EwkV4FpAebz"
      },
      "execution_count": null,
      "outputs": []
    },
    {
      "cell_type": "markdown",
      "source": [
        "TODO: Complete the helper functions below.\n"
      ],
      "metadata": {
        "id": "hBfB8j7uyJre"
      }
    },
    {
      "cell_type": "code",
      "source": [
        "async def create_feed(graphlit, uri):\n",
        "    #TODO: Create a Graphlit Feed that can read data from webpage\n",
        "\n",
        "async def create_specification(graphlit):\n",
        "    #TODO: Create an LLM Specification to use in your conversations\n",
        "\n",
        "async def create_conversation(graphlit, spec_id):\n",
        "    #TODO: Write a function to create a new conversation for every user input\n",
        "\n",
        "async def prompt_conversation(graphlit, conv_id, prompt):\n",
        "    #TODO: Write a function to prompt a conversation with a new user input"
      ],
      "metadata": {
        "id": "AAPi3B4cAflm"
      },
      "execution_count": null,
      "outputs": []
    },
    {
      "cell_type": "code",
      "source": [
        "#TODO: Replace the URL below with your own URL\n",
        "uri='https://lilianweng.github.io/posts/2023-06-23-agent/'\n",
        "feed_id=await create_feed(graphlit, uri)\n",
        "feed_id"
      ],
      "metadata": {
        "id": "kKc3vLKPAhEC"
      },
      "execution_count": null,
      "outputs": []
    },
    {
      "cell_type": "code",
      "source": [
        "spec_id= await create_specification(graphlit)\n",
        "spec_id"
      ],
      "metadata": {
        "id": "yxe1zDYIAiT9"
      },
      "execution_count": null,
      "outputs": []
    },
    {
      "cell_type": "code",
      "source": [
        "conv_id = await create_conversation(graphlit, spec_id)\n",
        "conv_id"
      ],
      "metadata": {
        "id": "QIYaXmVdAkll"
      },
      "execution_count": null,
      "outputs": []
    },
    {
      "cell_type": "code",
      "source": [
        "response = await prompt_conversation(graphlit, conv_id, \"<Your Question Here>\")\n",
        "response"
      ],
      "metadata": {
        "id": "uNL6KGBLAmfI"
      },
      "execution_count": null,
      "outputs": []
    },
    {
      "cell_type": "code",
      "source": [],
      "metadata": {
        "id": "cvG7Z1nGApoY"
      },
      "execution_count": null,
      "outputs": []
    }
  ]
}